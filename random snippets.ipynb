{
 "cells": [
  {
   "cell_type": "code",
   "execution_count": null,
   "metadata": {},
   "outputs": [],
   "source": [
    "# name companies (\"hvfhs_license_num\") using Data Dictionary\n",
    "companies = {\n",
    "    \"HV0002\": \"Juno\",\n",
    "    \"HV0003\": \"Uber\",\n",
    "    \"HV0004\": \"Via\",\n",
    "    \"HV0005\": \"Lyft\"\n",
    "}\n",
    "\n",
    "# map name values to \"hvfhs_license_num\" column\n",
    "df.replace({\"hvfhs_license_num\": companies}, inplace=True)\n",
    "\n",
    "# check\n",
    "df[\"hvfhs_license_num\"]\n",
    "\n",
    "# resource: https://stackoverflow.com/questions/20250771/remap-values-in-pandas-column-with-a-dict-preserve-nans"
   ]
  }
 ],
 "metadata": {
  "language_info": {
   "name": "python"
  }
 },
 "nbformat": 4,
 "nbformat_minor": 2
}
