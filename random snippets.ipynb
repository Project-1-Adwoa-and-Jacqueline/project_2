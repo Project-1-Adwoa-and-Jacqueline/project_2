{
 "cells": [
  {
   "cell_type": "code",
   "execution_count": null,
   "metadata": {},
   "outputs": [],
   "source": [
    "# CREATE A DICT TO REPLACE VALUES IN DF\n",
    "\n",
    "# name companies (\"hvfhs_license_num\") using Data Dictionary\n",
    "companies = {\n",
    "    \"HV0002\": \"Juno\",\n",
    "    \"HV0003\": \"Uber\",\n",
    "    \"HV0004\": \"Via\",\n",
    "    \"HV0005\": \"Lyft\"\n",
    "}\n",
    "\n",
    "# map name values to \"hvfhs_license_num\" column\n",
    "df.replace({\"hvfhs_license_num\": companies}, inplace=True)\n",
    "\n",
    "# resource: https://stackoverflow.com/questions/20250771/remap-values-in-pandas-column-with-a-dict-preserve-nans"
   ]
  },
  {
   "cell_type": "code",
   "execution_count": null,
   "metadata": {},
   "outputs": [],
   "source": [
    "# REPLACE VALUES IN A DF BASED ON VALUES IN DICT (FROM ANOTHER DF)\n",
    "\n",
    "# create a dictionary of boroughs based on LocationID\n",
    "borough_id_dict = dict(zip(location_encoding_csv[\"LocationID\"], location_encoding_csv[\"Borough\"]))\n",
    "\n",
    "# replace location id with borough columns\n",
    "df[\"PUborough\"] = df[\"PULocationID\"].replace(borough_id_dict)"
   ]
  }
 ],
 "metadata": {
  "language_info": {
   "name": "python"
  }
 },
 "nbformat": 4,
 "nbformat_minor": 2
}
